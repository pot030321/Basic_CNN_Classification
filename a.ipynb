{
 "cells": [
  {
   "metadata": {
    "ExecuteTime": {
     "end_time": "2025-04-23T04:24:31.482986Z",
     "start_time": "2025-04-23T04:23:09.675606Z"
    }
   },
   "cell_type": "code",
   "source": [
    "!pip install tensorflow>=2.13.0\n",
    "!pip install tensorflow-datasets>=4.9.2\n",
    "!pip install numpy>=1.22\n",
    "!pip install matplotlib>=3.5\n",
    "!pip install opencv-python>=4.7\n",
    "!pip install pillow>=9.5.0\n"
   ],
   "id": "c81c7224b2bfab8f",
   "outputs": [
    {
     "name": "stderr",
     "output_type": "stream",
     "text": [
      "ERROR: Could not find a version that satisfies the requirement tensorflow (from versions: none)\n",
      "ERROR: No matching distribution found for tensorflow\n"
     ]
    }
   ],
   "execution_count": 8
  },
  {
   "cell_type": "code",
   "id": "initial_id",
   "metadata": {
    "collapsed": true,
    "ExecuteTime": {
     "end_time": "2025-04-23T04:24:53.410793Z",
     "start_time": "2025-04-23T04:24:53.338561Z"
    }
   },
   "source": [
    "import tensorflow as tf\n",
    "from tensorflow.keras.untils import image_dataset_from_directory\n",
    "from tensorflow import layers, models\n",
    "import numpy as np\n",
    "from tensorflow.keras.preprocessing import image\n",
    "import tensorflow_datasets as tfds\n",
    "\n",
    "(train_ds, test_ds), info = tfds.load(\n",
    "    'cats_vs_dogs',\n",
    "    split=['train[:80%]', 'train[80%:]'],\n",
    "    with_info=True,\n",
    "    as_supervised=True,\n",
    ")\n",
    "# loading data\n",
    "dataset = image_dataset_from_directory(\n",
    "    \"data/train\",\n",
    "    labels = 'inferred',\n",
    "    label_mode = 'binary',\n",
    "    image_size = (128,128),\n",
    "    batch_size = 32\n",
    ")\n",
    "\n",
    "# build model\n",
    "model = models.Sequential([\n",
    "    #Block 1\n",
    "    layers.Rescaling(1./255, input_shape(128,128,3)),\n",
    "    layers.Conv2D(32,(3,3),activate = 'relu'),\n",
    "    layers.Maxpooling2D(2,2),\n",
    "\n",
    "    #Block 2\n",
    "    layers.Conv2D(64,(3,3), activate='relu'),\n",
    "    layers.Maxpooling2D(2,2),\n",
    "\n",
    "    #Block 3\n",
    "    layers.Flatten(),\n",
    "    layers.Dense(64,activate='relu'),\n",
    "    layers.Dense(1,activate= 'sigmoid') # Using for resolve problem just label 1 0\n",
    "])\n",
    "\n",
    "\n",
    "# Compile & Train\n",
    "\n",
    "model.compile(optimizer='adam',\n",
    "              loss ='binary-crossentropy',\n",
    "              metrics = ['accuracy']\n",
    ")\n",
    "\n",
    "img =image.load_img(\"data/test/cat.png\",target_size(128,128))\n",
    "img_arr = image.img_to_array(img)/255.0\n",
    "img_arr = np.expand_dims(img_arr,axis=0)\n",
    "\n",
    "prediction = model.predict(img_arr)\n",
    "print('dog' if prediction[0][0] > 0.5 else 'cat')"
   ],
   "outputs": [
    {
     "ename": "ModuleNotFoundError",
     "evalue": "No module named 'tensorflow'",
     "output_type": "error",
     "traceback": [
      "\u001B[31m---------------------------------------------------------------------------\u001B[39m",
      "\u001B[31mModuleNotFoundError\u001B[39m                       Traceback (most recent call last)",
      "\u001B[36mCell\u001B[39m\u001B[36m \u001B[39m\u001B[32mIn[10]\u001B[39m\u001B[32m, line 1\u001B[39m\n\u001B[32m----> \u001B[39m\u001B[32m1\u001B[39m \u001B[38;5;28;01mimport\u001B[39;00m\u001B[38;5;250m \u001B[39m\u001B[34;01mtensorflow\u001B[39;00m\u001B[38;5;250m \u001B[39m\u001B[38;5;28;01mas\u001B[39;00m\u001B[38;5;250m \u001B[39m\u001B[34;01mtf\u001B[39;00m\n\u001B[32m      2\u001B[39m \u001B[38;5;28;01mfrom\u001B[39;00m\u001B[38;5;250m \u001B[39m\u001B[34;01mtensorflow\u001B[39;00m\u001B[34;01m.\u001B[39;00m\u001B[34;01mkeras\u001B[39;00m\u001B[34;01m.\u001B[39;00m\u001B[34;01muntils\u001B[39;00m\u001B[38;5;250m \u001B[39m\u001B[38;5;28;01mimport\u001B[39;00m image_dataset_from_directory\n\u001B[32m      3\u001B[39m \u001B[38;5;28;01mfrom\u001B[39;00m\u001B[38;5;250m \u001B[39m\u001B[34;01mtensorflow\u001B[39;00m\u001B[38;5;250m \u001B[39m\u001B[38;5;28;01mimport\u001B[39;00m layers, models\n",
      "\u001B[31mModuleNotFoundError\u001B[39m: No module named 'tensorflow'"
     ]
    }
   ],
   "execution_count": 10
  },
  {
   "metadata": {},
   "cell_type": "code",
   "outputs": [],
   "execution_count": null,
   "source": "",
   "id": "19f51c3544072dfd"
  }
 ],
 "metadata": {
  "kernelspec": {
   "display_name": "Python 3",
   "language": "python",
   "name": "python3"
  },
  "language_info": {
   "codemirror_mode": {
    "name": "ipython",
    "version": 2
   },
   "file_extension": ".py",
   "mimetype": "text/x-python",
   "name": "python",
   "nbconvert_exporter": "python",
   "pygments_lexer": "ipython2",
   "version": "2.7.6"
  }
 },
 "nbformat": 4,
 "nbformat_minor": 5
}
